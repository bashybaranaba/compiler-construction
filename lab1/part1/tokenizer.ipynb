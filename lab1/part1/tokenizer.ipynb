{
  "nbformat": 4,
  "nbformat_minor": 0,
  "metadata": {
    "colab": {
      "provenance": []
    },
    "kernelspec": {
      "name": "python3",
      "display_name": "Python 3"
    },
    "language_info": {
      "name": "python"
    }
  },
  "cells": [
    {
      "cell_type": "code",
      "execution_count": 1,
      "metadata": {
        "id": "BNM3CUbALe0o",
        "colab": {
          "base_uri": "https://localhost:8080/"
        },
        "outputId": "aa5b9e17-a2b5-40a1-8df2-1425a4041b37"
      },
      "outputs": [
        {
          "output_type": "stream",
          "name": "stdout",
          "text": [
            "Enter an English sentence: Kind of happy today\n",
            "Kind\n",
            "of\n",
            "happy\n",
            "today\n"
          ]
        }
      ],
      "source": [
        "import re\n",
        "\n",
        "def tokenize_sentence(sentence):\n",
        "    # Use regular expression to split the sentence into words\n",
        "    words = re.findall(r'\\b\\w+\\b', sentence)\n",
        "    return words\n",
        "\n",
        "# Input sentence from the user\n",
        "input_sentence = input(\"Enter an English sentence: \")\n",
        "\n",
        "# Tokenize the sentence\n",
        "words = tokenize_sentence(input_sentence)\n",
        "\n",
        "# Output individual words\n",
        "for word in words:\n",
        "    print(word)\n"
      ]
    }
  ]
}