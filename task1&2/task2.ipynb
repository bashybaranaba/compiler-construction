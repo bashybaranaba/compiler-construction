{
 "cells": [
  {
   "cell_type": "code",
   "execution_count": 1,
   "metadata": {},
   "outputs": [
    {
     "name": "stdout",
     "output_type": "stream",
     "text": [
      "'_valid' is a valid identifier? True\n",
      "'9invalid' is a valid identifier? False\n",
      "'also_valid' is a valid identifier? True\n",
      "'not valid' is a valid identifier? False\n"
     ]
    }
   ],
   "source": [
    "import re\n",
    "\n",
    "def is_valid_identifier(identifier):\n",
    "    pattern = r'^[a-zA-Z_][a-zA-Z_0-9]*$'\n",
    "    return bool(re.match(pattern, identifier))\n",
    "\n",
    "sample_identifiers = [\n",
    "    \"_valid\",\n",
    "    \"9invalid\",\n",
    "    \"also_valid\",\n",
    "    \"not valid\",\n",
    "]\n",
    "\n",
    "for ident in sample_identifiers:\n",
    "    print(f\"'{ident}' is a valid identifier? {is_valid_identifier(ident)}\")\n"
   ]
  }
 ],
 "metadata": {
  "kernelspec": {
   "display_name": "Python 3",
   "language": "python",
   "name": "python3"
  },
  "language_info": {
   "codemirror_mode": {
    "name": "ipython",
    "version": 3
   },
   "file_extension": ".py",
   "mimetype": "text/x-python",
   "name": "python",
   "nbconvert_exporter": "python",
   "pygments_lexer": "ipython3",
   "version": "3.11.0"
  },
  "orig_nbformat": 4
 },
 "nbformat": 4,
 "nbformat_minor": 2
}
