{
 "cells": [
  {
   "cell_type": "code",
   "execution_count": 1,
   "metadata": {},
   "outputs": [
    {
     "name": "stdout",
     "output_type": "stream",
     "text": [
      "'# This is a comment.' is a comment? True\n",
      "'print('This is not a comment.')' is a comment? False\n",
      "'#Another comment' is a comment? True\n",
      "'x = 5' is a comment? False\n"
     ]
    }
   ],
   "source": [
    "def is_comment(line):\n",
    "    line = line.strip()  # Remove leading and trailing whitespace\n",
    "    return line.strip().startswith('#')\n",
    "\n",
    "sample_lines = [\n",
    "    \"# This is a comment.\",\n",
    "    \"print('This is not a comment.')\",\n",
    "    \"#Another comment\",\n",
    "    \"x = 5\",\n",
    "]\n",
    "\n",
    "for line in sample_lines:\n",
    "    print(f\"'{line}' is a comment? {is_comment(line)}\")\n"
   ]
  },
  {
   "cell_type": "code",
   "execution_count": 2,
   "metadata": {},
   "outputs": [],
   "source": [
    "# Get user input and determine if its acomment or not\n",
    "line = input(\"Enter a line of code: \")\n",
    "if is_comment(line):\n",
    "    print(\"This is a comment.\")\n",
    "else:\n",
    "    print(\"This is not a comment.\")\n"
   ]
  },
  {
   "cell_type": "markdown",
   "metadata": {},
   "source": [
    "### Identifying multiline comments"
   ]
  },
  {
   "cell_type": "code",
   "execution_count": 3,
   "metadata": {},
   "outputs": [
    {
     "name": "stdout",
     "output_type": "stream",
     "text": [
      "Not a comment: int x = 5;\n",
      "Comment: /* This is a\n",
      "Comment: multiline comment. */\n",
      "Not a comment: int y = 10;\n",
      "Comment: // This is a single-line comment\n",
      "Not a comment: int z = 15;\n"
     ]
    }
   ],
   "source": [
    "#Identifying multiline comments\n",
    "def identify_comments(lines):\n",
    "    in_comment = False\n",
    "    for line in lines:\n",
    "        line = line.strip()\n",
    "\n",
    "        if not in_comment:\n",
    "            # Check for start of multiline comment\n",
    "            if line.startswith(\"/*\"):\n",
    "                in_comment = True\n",
    "                print(\"Comment:\", line)\n",
    "            # Check for single-line comment (optional based on request)\n",
    "            elif line.startswith(\"//\"):\n",
    "                print(\"Comment:\", line)\n",
    "            else:\n",
    "                print(\"Not a comment:\", line)\n",
    "        else:\n",
    "            print(\"Comment:\", line)\n",
    "            # Check for end of multiline comment\n",
    "            if \"*/\" in line:\n",
    "                in_comment = False\n",
    "\n",
    "# Sample test\n",
    "lines = [\n",
    "    \"int x = 5;\",\n",
    "    \"/* This is a\",\n",
    "    \"multiline comment. */\",\n",
    "    \"int y = 10;\",\n",
    "    \"// This is a single-line comment\",\n",
    "    \"int z = 15;\"\n",
    "]\n",
    "identify_comments(lines)\n"
   ]
  }
 ],
 "metadata": {
  "kernelspec": {
   "display_name": "Python 3",
   "language": "python",
   "name": "python3"
  },
  "language_info": {
   "codemirror_mode": {
    "name": "ipython",
    "version": 3
   },
   "file_extension": ".py",
   "mimetype": "text/x-python",
   "name": "python",
   "nbconvert_exporter": "python",
   "pygments_lexer": "ipython3",
   "version": "3.11.0"
  },
  "orig_nbformat": 4
 },
 "nbformat": 4,
 "nbformat_minor": 2
}
