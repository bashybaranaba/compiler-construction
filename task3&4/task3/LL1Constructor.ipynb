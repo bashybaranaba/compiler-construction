{
 "cells": [
  {
   "cell_type": "code",
   "execution_count": 1,
   "metadata": {},
   "outputs": [
    {
     "name": "stdout",
     "output_type": "stream",
     "text": [
      "A {'a': 'aB'}\n",
      "B {'b': 'ε', 'ε': 'ε'}\n"
     ]
    }
   ],
   "source": [
    "def compute_first(grammar):\n",
    "    first = {}\n",
    "    for non_terminal in grammar:\n",
    "        first[non_terminal] = set()\n",
    "        for production in grammar[non_terminal]:\n",
    "            first_symbol = production[0]\n",
    "            if first_symbol.islower():  # Assuming terminals are lowercase\n",
    "                first[non_terminal].add(first_symbol)\n",
    "            else:\n",
    "                first[non_terminal] = first[non_terminal].union(first[first_symbol])\n",
    "    return first\n",
    "\n",
    "\n",
    "def compute_follow(grammar, start_symbol):\n",
    "    follow = {non_terminal: set() for non_terminal in grammar}\n",
    "    follow[start_symbol].add('$')  # Assuming $ denotes the end of input\n",
    "    for non_terminal in grammar:\n",
    "        for production in grammar[non_terminal]:\n",
    "            for idx, symbol in enumerate(production):\n",
    "                if symbol.isupper():  # If it's a non-terminal\n",
    "                    if idx + 1 < len(production):\n",
    "                        next_symbol = production[idx + 1]\n",
    "                        if next_symbol.islower():\n",
    "                            follow[symbol].add(next_symbol)\n",
    "                        else:\n",
    "                            follow[symbol] = follow[symbol].union(first[next_symbol])\n",
    "    return follow\n",
    "\n",
    "\n",
    "def construct_ll1_table(grammar, first, follow):\n",
    "    table = {}\n",
    "    for non_terminal in grammar:\n",
    "        table[non_terminal] = {}\n",
    "        for production in grammar[non_terminal]:\n",
    "            first_symbol = production[0]\n",
    "            if first_symbol.islower() or first_symbol == 'ε':\n",
    "                for terminal in first[non_terminal]:\n",
    "                    table[non_terminal][terminal] = production\n",
    "            else:\n",
    "                for terminal in follow[non_terminal]:\n",
    "                    table[non_terminal][terminal] = production\n",
    "    return table\n",
    "\n",
    "\n",
    "# Sample CFG\n",
    "# A -> aB\n",
    "# B -> bA | ε\n",
    "grammar = {\n",
    "    'A': ['aB'],\n",
    "    'B': ['bA', 'ε']\n",
    "}\n",
    "\n",
    "first = compute_first(grammar)\n",
    "follow = compute_follow(grammar, 'A')\n",
    "ll1_table = construct_ll1_table(grammar, first, follow)\n",
    "\n",
    "for non_terminal, rules in ll1_table.items():\n",
    "    print(non_terminal, rules)\n"
   ]
  }
 ],
 "metadata": {
  "kernelspec": {
   "display_name": "Python 3",
   "language": "python",
   "name": "python3"
  },
  "language_info": {
   "codemirror_mode": {
    "name": "ipython",
    "version": 3
   },
   "file_extension": ".py",
   "mimetype": "text/x-python",
   "name": "python",
   "nbconvert_exporter": "python",
   "pygments_lexer": "ipython3",
   "version": "3.11.0"
  },
  "orig_nbformat": 4
 },
 "nbformat": 4,
 "nbformat_minor": 2
}
