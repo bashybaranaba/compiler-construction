{
 "cells": [
  {
   "cell_type": "code",
   "execution_count": 2,
   "metadata": {},
   "outputs": [
    {
     "name": "stdout",
     "output_type": "stream",
     "text": [
      "False\n"
     ]
    }
   ],
   "source": [
    "# Defining operator precedence and associativity\n",
    "PRECEDENCE = {\n",
    "    '+': (1, 'LEFT'),\n",
    "    '-': (1, 'LEFT'),\n",
    "    '*': (2, 'LEFT'),\n",
    "    '/': (2, 'LEFT'),\n",
    "}\n",
    "\n",
    "def is_operator(symbol):\n",
    "    return symbol in PRECEDENCE\n",
    "\n",
    "def operator_precedence(op1, op2):\n",
    "    \"\"\"Determine the relationship between two operators.\"\"\"\n",
    "    prec1, assoc1 = PRECEDENCE[op1]\n",
    "    prec2, assoc2 = PRECEDENCE[op2]\n",
    "    \n",
    "    if prec1 < prec2:\n",
    "        return '<'\n",
    "    elif prec1 > prec2:\n",
    "        return '>'\n",
    "    else:\n",
    "        if assoc1 == 'LEFT':\n",
    "            return '>'\n",
    "        else:\n",
    "            return '<'\n",
    "\n",
    "def precedence_parsing(input_expr):\n",
    "    input_expr += '$'\n",
    "    stack = ['$']\n",
    "    i = 0\n",
    "\n",
    "    while i < len(input_expr):\n",
    "        if not stack:\n",
    "            break\n",
    "\n",
    "        if is_operator(stack[-1]):\n",
    "            top_op = stack[-1]\n",
    "        else:\n",
    "            top_op = None\n",
    "\n",
    "        current_symbol = input_expr[i]\n",
    "\n",
    "        # If the current_symbol is an operator, check its precedence with the top operator in the stack.\n",
    "        if is_operator(current_symbol):\n",
    "            if not top_op or operator_precedence(top_op, current_symbol) == '<':\n",
    "                stack.append(current_symbol)\n",
    "                i += 1\n",
    "            elif operator_precedence(top_op, current_symbol) == '>':\n",
    "                stack.pop()\n",
    "            else:\n",
    "                return False\n",
    "        else:\n",
    "            stack.append(current_symbol)\n",
    "            i += 1\n",
    "\n",
    "    return stack == ['$']\n",
    "\n",
    "expression = \"3+5*2-8\"\n",
    "print(precedence_parsing(expression))\n"
   ]
  }
 ],
 "metadata": {
  "kernelspec": {
   "display_name": "Python 3",
   "language": "python",
   "name": "python3"
  },
  "language_info": {
   "codemirror_mode": {
    "name": "ipython",
    "version": 3
   },
   "file_extension": ".py",
   "mimetype": "text/x-python",
   "name": "python",
   "nbconvert_exporter": "python",
   "pygments_lexer": "ipython3",
   "version": "3.11.0"
  },
  "orig_nbformat": 4
 },
 "nbformat": 4,
 "nbformat_minor": 2
}
